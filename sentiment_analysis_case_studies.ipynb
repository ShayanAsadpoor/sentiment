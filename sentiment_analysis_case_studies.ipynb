{
  "nbformat": 4,
  "nbformat_minor": 0,
  "metadata": {
    "colab": {
      "provenance": []
    },
    "kernelspec": {
      "name": "python3",
      "display_name": "Python 3"
    },
    "language_info": {
      "name": "python"
    }
  },
  "cells": [
    {
      "cell_type": "code",
      "execution_count": null,
      "metadata": {
        "id": "rstC4V6ycivp"
      },
      "outputs": [],
      "source": []
    },
    {
      "cell_type": "code",
      "source": [
        "!pip install -U scikit-learn\n"
      ],
      "metadata": {
        "colab": {
          "base_uri": "https://localhost:8080/",
          "height": 356
        },
        "id": "eaRrqpwce1uU",
        "outputId": "070a850b-7df5-4d1e-b5c2-e2a9958b98f5"
      },
      "execution_count": null,
      "outputs": [
        {
          "output_type": "stream",
          "name": "stdout",
          "text": [
            "Requirement already satisfied: scikit-learn in /usr/local/lib/python3.10/dist-packages (1.2.2)\n",
            "Collecting scikit-learn\n",
            "  Downloading scikit_learn-1.3.0-cp310-cp310-manylinux_2_17_x86_64.manylinux2014_x86_64.whl (10.8 MB)\n",
            "\u001b[2K     \u001b[90m━━━━━━━━━━━━━━━━━━━━━━━━━━━━━━━━━━━━━━━━\u001b[0m \u001b[32m10.8/10.8 MB\u001b[0m \u001b[31m61.8 MB/s\u001b[0m eta \u001b[36m0:00:00\u001b[0m\n",
            "\u001b[?25hRequirement already satisfied: numpy>=1.17.3 in /usr/local/lib/python3.10/dist-packages (from scikit-learn) (1.23.5)\n",
            "Requirement already satisfied: scipy>=1.5.0 in /usr/local/lib/python3.10/dist-packages (from scikit-learn) (1.10.1)\n",
            "Requirement already satisfied: joblib>=1.1.1 in /usr/local/lib/python3.10/dist-packages (from scikit-learn) (1.3.1)\n",
            "Requirement already satisfied: threadpoolctl>=2.0.0 in /usr/local/lib/python3.10/dist-packages (from scikit-learn) (3.2.0)\n",
            "Installing collected packages: scikit-learn\n",
            "  Attempting uninstall: scikit-learn\n",
            "    Found existing installation: scikit-learn 1.2.2\n",
            "    Uninstalling scikit-learn-1.2.2:\n",
            "      Successfully uninstalled scikit-learn-1.2.2\n",
            "Successfully installed scikit-learn-1.3.0\n"
          ]
        },
        {
          "output_type": "display_data",
          "data": {
            "application/vnd.colab-display-data+json": {
              "pip_warning": {
                "packages": [
                  "sklearn"
                ]
              }
            }
          },
          "metadata": {}
        }
      ]
    },
    {
      "cell_type": "code",
      "source": [
        "!pip install vaderSentiment"
      ],
      "metadata": {
        "colab": {
          "base_uri": "https://localhost:8080/"
        },
        "id": "LEksbLLoesM5",
        "outputId": "7ac32b04-25bb-4a7c-f6e0-22c2349f4b40"
      },
      "execution_count": null,
      "outputs": [
        {
          "output_type": "stream",
          "name": "stdout",
          "text": [
            "Collecting vaderSentiment\n",
            "  Downloading vaderSentiment-3.3.2-py2.py3-none-any.whl (125 kB)\n",
            "\u001b[?25l     \u001b[90m━━━━━━━━━━━━━━━━━━━━━━━━━━━━━━━━━━━━━━━━\u001b[0m \u001b[32m0.0/126.0 kB\u001b[0m \u001b[31m?\u001b[0m eta \u001b[36m-:--:--\u001b[0m\r\u001b[2K     \u001b[90m━━━━━━━━━━━━━━━━━━━━━━━━━━━━━━━━━━━━━━━\u001b[0m \u001b[32m126.0/126.0 kB\u001b[0m \u001b[31m3.8 MB/s\u001b[0m eta \u001b[36m0:00:00\u001b[0m\n",
            "\u001b[?25hRequirement already satisfied: requests in /usr/local/lib/python3.10/dist-packages (from vaderSentiment) (2.31.0)\n",
            "Requirement already satisfied: charset-normalizer<4,>=2 in /usr/local/lib/python3.10/dist-packages (from requests->vaderSentiment) (3.2.0)\n",
            "Requirement already satisfied: idna<4,>=2.5 in /usr/local/lib/python3.10/dist-packages (from requests->vaderSentiment) (3.4)\n",
            "Requirement already satisfied: urllib3<3,>=1.21.1 in /usr/local/lib/python3.10/dist-packages (from requests->vaderSentiment) (1.26.16)\n",
            "Requirement already satisfied: certifi>=2017.4.17 in /usr/local/lib/python3.10/dist-packages (from requests->vaderSentiment) (2023.7.22)\n",
            "Installing collected packages: vaderSentiment\n",
            "Successfully installed vaderSentiment-3.3.2\n"
          ]
        }
      ]
    },
    {
      "cell_type": "code",
      "source": [
        "from vaderSentiment.vaderSentiment import SentimentIntensityAnalyzer"
      ],
      "metadata": {
        "id": "tTgawF-1fTMJ"
      },
      "execution_count": null,
      "outputs": []
    },
    {
      "cell_type": "code",
      "source": [
        "sia = SentimentIntensityAnalyzer()"
      ],
      "metadata": {
        "id": "S9SF7jlEG46X"
      },
      "execution_count": null,
      "outputs": []
    },
    {
      "cell_type": "code",
      "source": [
        "sentences = [\n",
        "    \"This lovely food is completely amazing and absolutely tasty!\",\n",
        "    \"Esoplanets are the planets outside the solar system!\",\n",
        "    \"This is sad to see such bad behavior\",\n",
        "    \"Terrible\"\n",
        "]"
      ],
      "metadata": {
        "id": "cod8KJXSG-dO"
      },
      "execution_count": null,
      "outputs": []
    },
    {
      "cell_type": "code",
      "source": [
        "for sentence in sentences:\n",
        "   score = sia.polarity_scores(sentence)[\"compound\"]\n",
        "   print (f'The sentiment value of the {sentence} is {score}')"
      ],
      "metadata": {
        "colab": {
          "base_uri": "https://localhost:8080/"
        },
        "id": "owg8wkmZHfm9",
        "outputId": "397cdb50-4fd1-4a8d-84aa-97d4eec2bd5a"
      },
      "execution_count": null,
      "outputs": [
        {
          "output_type": "stream",
          "name": "stdout",
          "text": [
            "The sentiment value of the This lovely food is completely amazing and absolutely tasty! is 0.8475\n",
            "The sentiment value of the Esoplanets are the planets outside the solar system! is 0.0\n",
            "The sentiment value of the This is sad to see such bad behavior is -0.765\n",
            "The sentiment value of the Terrible is -0.4767\n"
          ]
        }
      ]
    },
    {
      "cell_type": "code",
      "source": [
        "for sentence in sentences:\n",
        "  print(f\"For the sentence '{sentence}'\")\n",
        "  polarity = sia.polarity_scores(sentence)\n",
        "  pos = polarity['pos']\n",
        "  neu = polarity['neu']\n",
        "  neg = polarity['neg']\n",
        "\n",
        "  print(f\"The percentage of the positive sentiment in: '{sentence}' is: {round(pos*100, 2)} %\")\n",
        "  print(f\"The percentage of the positive sentiment in: '{sentence}' is: {round(neu*100, 2)} %\")\n",
        "  print(f\"The percentage of the positive sentiment in: '{sentence}' is: {round(neg*100, 2)} %\")\n"
      ],
      "metadata": {
        "colab": {
          "base_uri": "https://localhost:8080/"
        },
        "id": "9zhl2roqJuPc",
        "outputId": "d3dd1e29-6cc0-4fe3-8534-c18f8dd34cd3"
      },
      "execution_count": null,
      "outputs": [
        {
          "output_type": "stream",
          "name": "stdout",
          "text": [
            "For the sentence 'This lovely food is completely amazing and absolutely tasty!'\n",
            "The percentage of the positive sentiment in: 'This lovely food is completely amazing and absolutely tasty!' is: 53.9 %\n",
            "The percentage of the positive sentiment in: 'This lovely food is completely amazing and absolutely tasty!' is: 46.1 %\n",
            "The percentage of the positive sentiment in: 'This lovely food is completely amazing and absolutely tasty!' is: 0.0 %\n",
            "For the sentence 'Esoplanets are the planets outside the solar system!'\n",
            "The percentage of the positive sentiment in: 'Esoplanets are the planets outside the solar system!' is: 0.0 %\n",
            "The percentage of the positive sentiment in: 'Esoplanets are the planets outside the solar system!' is: 100.0 %\n",
            "The percentage of the positive sentiment in: 'Esoplanets are the planets outside the solar system!' is: 0.0 %\n",
            "For the sentence 'This is sad to see such bad behavior'\n",
            "The percentage of the positive sentiment in: 'This is sad to see such bad behavior' is: 0.0 %\n",
            "The percentage of the positive sentiment in: 'This is sad to see such bad behavior' is: 47.6 %\n",
            "The percentage of the positive sentiment in: 'This is sad to see such bad behavior' is: 52.4 %\n",
            "For the sentence 'Terrible'\n",
            "The percentage of the positive sentiment in: 'Terrible' is: 0.0 %\n",
            "The percentage of the positive sentiment in: 'Terrible' is: 0.0 %\n",
            "The percentage of the positive sentiment in: 'Terrible' is: 100.0 %\n"
          ]
        }
      ]
    }
  ]
}